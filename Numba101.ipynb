{
 "cells": [
  {
   "cell_type": "markdown",
   "id": "4b9b329b",
   "metadata": {},
   "source": [
    "Simple Program to use perfplot to measure the execution time of the factorial function with and without Numba:"
   ]
  },
  {
   "cell_type": "code",
   "execution_count": 19,
   "id": "9d977562",
   "metadata": {},
   "outputs": [
    {
     "name": "stdout",
     "output_type": "stream",
     "text": [
      "The execution time of factorial_python(100000) is 4.131411075592041 seconds.\n",
      "The execution time of factorial_numba(100000) is 0.02374410629272461 seconds.\n"
     ]
    }
   ],
   "source": [
    "import numpy as np\n",
    "import numba\n",
    "import time\n",
    "\n",
    "def factorial_python(n):\n",
    "    result = 1\n",
    "    for i in range(1, n+1):\n",
    "        result *= i\n",
    "    return result\n",
    "\n",
    "@numba.jit(nopython=True)\n",
    "def factorial_numba(n):\n",
    "    result = 1\n",
    "    for i in range(1, n+1):\n",
    "        result *= i\n",
    "    return result\n",
    "\n",
    "n = 100000\n",
    "\n",
    "start_python = time.time()\n",
    "factorial_python(n)\n",
    "end_python = time.time()\n",
    "\n",
    "start_numba = time.time()\n",
    "factorial_numba(n)\n",
    "end_numba = time.time()\n",
    "\n",
    "print(\"The execution time of factorial_python({}) is {} seconds.\".format(n, end_python-start_python))\n",
    "print(\"The execution time of factorial_numba({}) is {} seconds.\".format(n, end_numba-start_numba))\n"
   ]
  },
  {
   "cell_type": "markdown",
   "id": "2275459e",
   "metadata": {},
   "source": [
    "Note: When running the above code for the first time numba might take a little longer than the subsequent times. This is due to the time take to generate the jit code."
   ]
  }
 ],
 "metadata": {
  "kernelspec": {
   "display_name": "Python 3.10 (tensorflow)",
   "language": "python",
   "name": "tensorflow"
  },
  "language_info": {
   "codemirror_mode": {
    "name": "ipython",
    "version": 3
   },
   "file_extension": ".py",
   "mimetype": "text/x-python",
   "name": "python",
   "nbconvert_exporter": "python",
   "pygments_lexer": "ipython3",
   "version": "3.10.9"
  }
 },
 "nbformat": 4,
 "nbformat_minor": 5
}
